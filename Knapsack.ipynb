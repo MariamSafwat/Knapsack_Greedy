{
 "cells": [
  {
   "cell_type": "markdown",
   "metadata": {},
   "source": [
    "# Maximum Profit/Weight"
   ]
  },
  {
   "cell_type": "code",
   "execution_count": 33,
   "metadata": {},
   "outputs": [],
   "source": [
    "def prof_per_w(p, w, max_space, k_type):\n",
    "    max_profit = 0 \n",
    "    # to make sure the original lists don't change\n",
    "    profits = p.copy()\n",
    "    weights = w.copy()\n",
    "    \n",
    "    w = [0]* len(weights) # percentage of each object weight\n",
    "    p_per_w = [i / j for i, j in zip(profits , weights)] # profit per weight\n",
    "    it = 0\n",
    "    \n",
    "    while sum(p_per_w) > 0 and max_space > 0: \n",
    "        it += 1\n",
    "        #print('iteration:', it)\n",
    "        max_idx = p_per_w.index(max(p_per_w)) # the object with highest profit/weight \n",
    "        #print('max_idx:', max_idx)\n",
    "        \n",
    "        if max_space - weights[max_idx] >= 0: # check if object can fit\n",
    "            p_per_w[max_idx] = 0 # make the max = 0 so we don't count it again\n",
    "            w[max_idx] = 1 # take the whole weight\n",
    "            max_space = max_space - weights[max_idx] # subtract the object weight from total space\n",
    "            #print('fits')\n",
    "            #print('p_per_w:', p_per_w)\n",
    "            #print('w:', w)\n",
    "            #print('rem:', max_space)\n",
    "            \n",
    "        else:\n",
    "            # the object doesn't fit so check if type is fractional take a fraction of it else skip it\n",
    "            if k_type == '1':\n",
    "                sub_w = max_space / weights[max_idx] # take sub weight\n",
    "                w[max_idx] = sub_w\n",
    "                max_space = 0 # we took the whole space left \n",
    "                #print('not fit')\n",
    "                #print('w:', w)\n",
    "                #print('rem:', max_space)\n",
    "                break\n",
    "            else:\n",
    "                p_per_w[max_idx] = 0\n",
    "                \n",
    "            \n",
    "    \n",
    "    profit = sum([i*j for i,j in zip(w,profits)])\n",
    "    print('profit:', profit)\n",
    "    "
   ]
  },
  {
   "cell_type": "markdown",
   "metadata": {},
   "source": [
    "# Maximum Profit"
   ]
  },
  {
   "cell_type": "code",
   "execution_count": 24,
   "metadata": {},
   "outputs": [],
   "source": [
    "\n",
    "def max_profit(p, w, max_space, k_type):\n",
    "    max_profit = 0 \n",
    "    it = 0\n",
    "    \n",
    "    profits = p.copy()\n",
    "    weights = w.copy()\n",
    "    \n",
    "    while sum(profits) > 0 and max_space > 0: \n",
    "        it += 1\n",
    "        #print('iteration:', it)\n",
    "        max_idx = profits.index(max(profits)) # the object with highest profit\n",
    "        #print('max_idx:', max_idx)\n",
    "        \n",
    "        if max_space - weights[max_idx] >= 0: # check if object can fit\n",
    "            max_profit += profits[max_idx] # add its profit\n",
    "            profits[max_idx] = 0 # make the max = 0 so we don't count it again\n",
    "            max_space = max_space - weights[max_idx] # subtract the object weight from total space\n",
    "            \n",
    "            #print('fits')\n",
    "            #print('profits:', profits)\n",
    "            #print('new profit:', max_profit)\n",
    "            #print('rem:', max_space)\n",
    "            \n",
    "        else:\n",
    "            # the object doesn't fit so check if type is fractional take a fraction of it else skip it\n",
    "            if k_type == '1':\n",
    "                sub_w = max_space / weights[max_idx] # take sub weight\n",
    "                max_profit += profits[max_idx] * sub_w\n",
    "                max_space = 0 # we took the whole space left \n",
    "                #print('not fit')\n",
    "                #print('profits:', profits)\n",
    "                #print('new profit:', max_profit)\n",
    "                #print('rem:', max_space)\n",
    "                break\n",
    "            else:\n",
    "                profits[max_idx] = 0\n",
    "                \n",
    "\n",
    "    print('profit:', max_profit)\n",
    "    "
   ]
  },
  {
   "cell_type": "markdown",
   "metadata": {},
   "source": [
    "# Minimum weight"
   ]
  },
  {
   "cell_type": "code",
   "execution_count": 34,
   "metadata": {},
   "outputs": [],
   "source": [
    "\n",
    "def min_weight(p, w, max_space, k_type):\n",
    "    profits = p.copy()\n",
    "    weights = w.copy()\n",
    "    \n",
    "    max_profit = 0 \n",
    "    it = 0\n",
    "    max_w = max(weights) # maximum weight\n",
    "    stp_cnd = (max_w + 1) * len(weights) # stopping cnd, it means all array is visited\n",
    "    \n",
    "    while sum(weights) < stp_cnd and max_space > 0: \n",
    "        it += 1\n",
    "        #print('iteration:', it)\n",
    "        min_idx = weights.index(min(weights)) # the object with lowest weights\n",
    "        #print('min_idx:', min_idx)\n",
    "        \n",
    "        if max_space - weights[min_idx] >= 0: # check if object can fit\n",
    "            max_profit += profits[min_idx] # add its profit\n",
    "            max_space = max_space - weights[min_idx] # subtract the object weight from total space\n",
    "            weights[min_idx] = max_w + 1 # make it higher than the maximum weight so we don't count it again\n",
    "            \n",
    "            #print('fits')\n",
    "            #print('weights:', weights)\n",
    "            #print('new profit:', max_profit)\n",
    "            #print('rem:', max_space)\n",
    "            \n",
    "        else:\n",
    "            # the object doesn't fit so check if type is fractional take a fraction of it else skip it\n",
    "            if k_type == '1':\n",
    "                sub_w = max_space / weights[min_idx] # take sub weight\n",
    "                max_profit += profits[min_idx] * sub_w\n",
    "                max_space = 0 # we took the whole space left \n",
    "                #print('not fit')\n",
    "                #print('weights:', weights)\n",
    "                #print('new profit:', max_profit)\n",
    "                #print('rem:', max_space)\n",
    "                break\n",
    "            else:\n",
    "                weights[min_idx] = max_w + 1\n",
    "                \n",
    "\n",
    "    print('profit:', max_profit)\n",
    "    "
   ]
  },
  {
   "cell_type": "markdown",
   "metadata": {},
   "source": [
    "# Main"
   ]
  },
  {
   "cell_type": "code",
   "execution_count": 39,
   "metadata": {},
   "outputs": [
    {
     "name": "stdout",
     "output_type": "stream",
     "text": [
      "please choose type of knapsack:\n",
      "enter 1 for fractional, 2 for I/0 \n",
      "2\n",
      "\n",
      "please choose cost function:\n",
      "enter 1 for Maximum Profit, 2 for Minimum Weight, 3 for Maximum Profit/Weight, 4 for All \n",
      "4\n",
      "\n",
      "please enter the maximum weight of the knapsack \n",
      "15\n",
      "\n",
      "please enter objects profits separated by space \n",
      "5 10 15 7 8 9 4\n",
      "\n",
      "please enter objects weights separated by space \n",
      "1 3 5 4 1 3 2\n"
     ]
    }
   ],
   "source": [
    "print('please choose type of knapsack:')\n",
    "k_type = input('enter 1 for fractional, 2 for I/0 \\n')\n",
    "\n",
    "print()\n",
    "\n",
    "print('please choose cost function:')\n",
    "cost_fun = input('enter 1 for Maximum Profit, 2 for Minimum Weight, 3 for Maximum Profit/Weight, 4 for All \\n')\n",
    "\n",
    "print()\n",
    "\n",
    "max_space = int(input('please enter the maximum weight of the knapsack \\n'))\n",
    "\n",
    "print()\n",
    "\n",
    "prof_string = input('please enter objects profits separated by space \\n')\n",
    "prof_list = prof_string.split()\n",
    "profits = [float(prof_list[i]) for i in range(len(prof_list))]\n",
    "\n",
    "print()\n",
    "\n",
    "weights_string = input('please enter objects weights separated by space \\n')\n",
    "weights_list = weights_string.split()\n",
    "weights = [float(weights_list[i]) for i in range(len(weights_list))]\n"
   ]
  },
  {
   "cell_type": "code",
   "execution_count": 40,
   "metadata": {},
   "outputs": [
    {
     "name": "stdout",
     "output_type": "stream",
     "text": [
      "using maximum profit:\n",
      "profit: 51.0\n",
      "using minimum weight:\n",
      "profit: 43.0\n",
      "using maximum profit per weight:\n",
      "profit: 51.0\n"
     ]
    }
   ],
   "source": [
    "if cost_fun == '1':\n",
    "    max_profit(profits, weights, max_space, k_type)\n",
    "elif cost_fun == '2':\n",
    "    min_weight(profits, weights, max_space, k_type)\n",
    "elif cost_fun == '3':\n",
    "    prof_per_w(profits, weights, max_space, k_type)\n",
    "elif cost_fun == '4':\n",
    "    print('using maximum profit:')\n",
    "    max_profit(profits, weights, max_space, k_type)\n",
    "    print('using minimum weight:')\n",
    "    min_weight(profits, weights, max_space, k_type)\n",
    "    print('using maximum profit per weight:')\n",
    "    prof_per_w(profits, weights, max_space, k_type)"
   ]
  }
 ],
 "metadata": {
  "kernelspec": {
   "display_name": "Python 3",
   "language": "python",
   "name": "python3"
  },
  "language_info": {
   "codemirror_mode": {
    "name": "ipython",
    "version": 3
   },
   "file_extension": ".py",
   "mimetype": "text/x-python",
   "name": "python",
   "nbconvert_exporter": "python",
   "pygments_lexer": "ipython3",
   "version": "3.6.4"
  }
 },
 "nbformat": 4,
 "nbformat_minor": 4
}
